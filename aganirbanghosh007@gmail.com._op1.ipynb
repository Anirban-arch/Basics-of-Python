{
 "cells": [
  {
   "cell_type": "code",
   "execution_count": 15,
   "metadata": {},
   "outputs": [
    {
     "name": "stdout",
     "output_type": "stream",
     "text": [
      "Enter the value for p: 10\n",
      "Enter the value of r: 6\n",
      "permutation is: 151200.0\n",
      "combination is 210.0\n"
     ]
    },
    {
     "data": {
      "text/plain": [
       "210.0"
      ]
     },
     "execution_count": 15,
     "metadata": {},
     "output_type": "execute_result"
    }
   ],
   "source": [
    "#Q4 Proggram to find the permutation and combination of two given numbers\n",
    "\n",
    "def permutation(p,r):\n",
    "    \"\"\"\n",
    "    Function to calculate permutation\n",
    "    \n",
    "    \"\"\"\n",
    "    fact1=1\n",
    "    fact2=1\n",
    "    difference=int(p-r)\n",
    "    for i in range(1,p+1):                    # calculate(p!)\n",
    "        fact1=fact1*i\n",
    "    for j in range(1,difference+1):           #calculate (p-r)!\n",
    "        fact2=fact2*j\n",
    "    perm=fact1/fact2                        #calculate permutation\n",
    "    print(\"permutation is: {}\".format(perm)) \n",
    "    return perm\n",
    "    \n",
    "def combination(p,r, perm):\n",
    "    \"\"\"\n",
    "    Function to calculate combination\n",
    "    \n",
    "    \"\"\"\n",
    "    fact=1\n",
    "    for k in range(1,int(r+1)):\n",
    "        fact=fact*k \n",
    "    comb=perm/fact                           #calculate combination\n",
    "    print(\"combination is {}\".format(comb))\n",
    "    return comb\n",
    "\n",
    "\n",
    "a=int(input(\"Enter the value for p: \"))\n",
    "b=float(input(\"Enter the value of r: \"))\n",
    "combination(a,b,permutation(a,b))\n"
   ]
  },
  {
   "cell_type": "code",
   "execution_count": 10,
   "metadata": {},
   "outputs": [
    {
     "name": "stdout",
     "output_type": "stream",
     "text": [
      "Enter a number to multiply: 5\n",
      "The multiplication table as follows: \n",
      "5 * 1 = 5\n",
      "5 * 2 = 10\n",
      "5 * 3 = 15\n",
      "5 * 4 = 20\n",
      "5 * 5 = 25\n",
      "5 * 6 = 30\n",
      "5 * 7 = 35\n",
      "5 * 8 = 40\n",
      "5 * 9 = 45\n",
      "5 * 10 = 50\n"
     ]
    }
   ],
   "source": [
    "#Q1 Program to calulate multiplication table of a given number\n",
    "\n",
    "def multiply(int):\n",
    "    \"\"\"\n",
    "    Function to find the multiplication table\n",
    "    \n",
    "    \"\"\"\n",
    "    i=10\n",
    "    print(\"The multiplication table as follows: \")\n",
    "    for mul in range(1,i+1):\n",
    "        print(\"{} * {} = {}\".format(int, mul, int*mul))\n",
    "    return\n",
    "\n",
    "\n",
    "num=int(input(\"Enter a number to multiply: \"))\n",
    "multiply(num)\n"
   ]
  },
  {
   "cell_type": "markdown",
   "metadata": {},
   "source": [
    "    "
   ]
  },
  {
   "cell_type": "code",
   "execution_count": 8,
   "metadata": {},
   "outputs": [
    {
     "name": "stdout",
     "output_type": "stream",
     "text": [
      "Enter a number: 100\n",
      "The factorials are: \n",
      "\n",
      "2  \n",
      "2  \n",
      "5  \n",
      "5  \n"
     ]
    }
   ],
   "source": [
    "#Q3 Calculate Factorials\n",
    "\n",
    "number=int(input(\"Enter a number: \"))\n",
    "print(\"The factorials are: \\n\")\n",
    "for i in range(2,number,):\n",
    "    while number%i==0:\n",
    "            print(i,\" \")\n",
    "            number=number/i\n",
    "\n",
    "\n"
   ]
  },
  {
   "cell_type": "code",
   "execution_count": null,
   "metadata": {},
   "outputs": [],
   "source": []
  },
  {
   "cell_type": "code",
   "execution_count": 16,
   "metadata": {},
   "outputs": [
    {
     "name": "stdout",
     "output_type": "stream",
     "text": [
      "Enter a number28\n",
      "The divisors are: \n",
      "1\n",
      "2\n",
      "4\n",
      "7\n",
      "14\n",
      "The sum of the divisors is 28 \n",
      "This is a Perfect Number\n"
     ]
    }
   ],
   "source": [
    "#Q9 and Q10 Program to find proper divisors of a number and to sum them to find perfect number\n",
    "def sumPdivisors(a):\n",
    "    \n",
    "    \"\"\"\n",
    "    Function to calculate the divisors and add them\n",
    "    \n",
    "    \"\"\"\n",
    "    sum=0\n",
    "    print(\"The divisors are: \")\n",
    "    for i in range(1,a):\n",
    "        if a%i==0:\n",
    "            print(i)\n",
    "            sum=sum+i\n",
    "    print(\"The sum of the divisors is {} \".format(sum))\n",
    "    return sum\n",
    "\n",
    "numb=int(input(\"Enter a number\"))\n",
    "if numb==sumPdivisors(numb):\n",
    "    print(\"This is a Perfect Number\")\n",
    "else: \n",
    "    print(\"This is not a Perfect Number\")\n",
    "        \n",
    "\n"
   ]
  },
  {
   "cell_type": "code",
   "execution_count": 10,
   "metadata": {},
   "outputs": [
    {
     "name": "stdout",
     "output_type": "stream",
     "text": [
      "Enter a number: 153\n",
      "It is a Armstrong number\n"
     ]
    }
   ],
   "source": [
    "#Q6 Armstrong Number\n",
    "\n",
    "def cubesum(a):\n",
    "    \n",
    "    \"\"\"\n",
    "    To Find Cubesum\n",
    "    \n",
    "    \"\"\"\n",
    "    sum=0\n",
    "    while(a>0):\n",
    "        b=a%10\n",
    "        sum=sum+(b**3)\n",
    "        a=a//10\n",
    "    return sum\n",
    "\n",
    "def PrintArmstrong(b):\n",
    "    \"\"\"\n",
    "    To Print Armstrong number\n",
    "    \"\"\"\n",
    "    if isArmstrong(b)==b:\n",
    "        print(\"It is a Armstrong number\")\n",
    "    else:\n",
    "        print(\"It is not an Armstrong Number\")\n",
    "    return \n",
    "\n",
    "def isArmstrong(b):\n",
    "    \"\"\"\n",
    "    To find if the given number is Armstrong or not\n",
    "    \"\"\"\n",
    "    if cubesum(b)==b:\n",
    "        return b\n",
    "    else:\n",
    "        return False\n",
    "\n",
    "\n",
    "number=int(input(\"Enter a number: \"))\n",
    "PrintArmstrong(number)"
   ]
  },
  {
   "cell_type": "code",
   "execution_count": 5,
   "metadata": {},
   "outputs": [
    {
     "name": "stdout",
     "output_type": "stream",
     "text": [
      "Enter range 1: 220\n",
      "Enter a range 2: 284\n",
      "The sum of the divisors is 284 of number 220 \n",
      "The sum of the divisors is 220 of number 284 \n",
      "The numbers 220 and 284 are amicable\n"
     ]
    }
   ],
   "source": [
    "#Q11 Amicable numbers\n",
    "\n",
    "def sumPdivisors(a):\n",
    "    \"\"\"\n",
    "    Function to find the sum of the divisors\n",
    "    \n",
    "    \"\"\"\n",
    "    sum=0\n",
    "    for i in range(1,a):\n",
    "        if a%i==0:\n",
    "            sum=sum+i\n",
    "    print(\"The sum of the divisors is {} of number {} \".format(sum,a))\n",
    "    return sum\n",
    "\n",
    "num=int(input(\"Enter range 1: \"))\n",
    "num1=int(input(\"Enter a range 2: \"))\n",
    "if sumPdivisors(num)== num1 and sumPdivisors(num1)==num:\n",
    "    print(\"The numbers {} and {} are amicable\".format(num,num1))\n",
    "else:\n",
    "    print(\"The numbers {} and {} are not amicable\".format(num,num1))\n",
    "\n",
    "\n",
    "    \n"
   ]
  },
  {
   "cell_type": "code",
   "execution_count": 3,
   "metadata": {},
   "outputs": [
    {
     "name": "stdout",
     "output_type": "stream",
     "text": [
      "Enter a range: 10\n",
      "Enter a number: 1\n",
      "Enter a number: 2\n",
      "Enter a number: 3\n",
      "Enter a number: 4\n",
      "Enter a number: 5\n",
      "Enter a number: 6\n",
      "Enter a number: 7\n",
      "Enter a number: 8\n",
      "Enter a number: 9\n",
      "Enter a number: 10\n",
      "[1, 2, 3, 4, 5, 6, 7, 8, 9, 10]\n",
      "[1, 3, 5, 7, 9]\n"
     ]
    }
   ],
   "source": [
    "#Q12 To find odd numbers in a range\n",
    "lst=[]\n",
    "rang=int(input(\"Enter a range: \"))\n",
    "for i in range(0,rang):\n",
    "    n=int(input(\"Enter a number: \"))\n",
    "    lst.append(n)\n",
    "print(lst)\n",
    "odd_list=list(filter(lambda x:(x%2!=0),lst))\n",
    "print(odd_list)"
   ]
  },
  {
   "cell_type": "code",
   "execution_count": 19,
   "metadata": {},
   "outputs": [
    {
     "name": "stdout",
     "output_type": "stream",
     "text": [
      "Enter a range: 5\n",
      "Enter a number: 1\n",
      "Enter a number: 2\n",
      "Enter a number: 3\n",
      "Enter a number: 4\n",
      "Enter a number: 5\n",
      "[1, 2, 3, 4, 5]\n",
      "[1, 8, 27, 64, 125]\n"
     ]
    }
   ],
   "source": [
    "#Q13 To find cube of numbers in a range\n",
    "lst=[]\n",
    "rang=int(input(\"Enter a range: \"))\n",
    "for i in range(0,rang):\n",
    "    n=int(input(\"Enter a number: \"))\n",
    "    lst.append(n)\n",
    "print(lst)\n",
    "cube_list=list(map(lambda x:x**3,lst))\n",
    "print(cube_list)"
   ]
  },
  {
   "cell_type": "code",
   "execution_count": 13,
   "metadata": {},
   "outputs": [
    {
     "name": "stdout",
     "output_type": "stream",
     "text": [
      "Enter a number: 369\n",
      "The product of digits are 162 \n"
     ]
    }
   ],
   "source": [
    "#Q7 Product of digits\n",
    "\n",
    "def prodDigits(a):\n",
    "    \"\"\"\n",
    "    Function to print product of digits\n",
    "    \"\"\"\n",
    "    prod=1\n",
    "    while(a>0):\n",
    "        b=a%10\n",
    "        prod*=b\n",
    "        a=a//10\n",
    "    print(\"The product of digits are {} \".format(prod))\n",
    "        \n",
    "num=int(input(\"Enter a number: \"))\n",
    "prodDigits(num)\n",
    "        "
   ]
  },
  {
   "cell_type": "code",
   "execution_count": 36,
   "metadata": {},
   "outputs": [
    {
     "name": "stdout",
     "output_type": "stream",
     "text": [
      "Enter a range: 5\n",
      "Enter a number: 1\n",
      "Enter a number: 2\n",
      "Enter a number: 3\n",
      "Enter a number: 4\n",
      "Enter a number: 5\n",
      "[2, 4]\n",
      "[8, 64]\n"
     ]
    }
   ],
   "source": [
    "#Q14 To find even numbers and cube them\n",
    "lst=[]\n",
    "rang=int(input(\"Enter a range: \"))\n",
    "for i in range(0,rang):\n",
    "    n=int(input(\"Enter a number: \"))\n",
    "    lst.append(n)\n",
    "\n",
    "filter_list=list(filter(lambda x:x%2==0,lst))\n",
    "cube_list=list(map(lambda x: x**3,filter_list))\n",
    "print(filter_list)\n",
    "\n",
    "print(cube_list)"
   ]
  },
  {
   "cell_type": "code",
   "execution_count": 45,
   "metadata": {},
   "outputs": [
    {
     "name": "stdout",
     "output_type": "stream",
     "text": [
      "Enter any decimal number: 10\n",
      "1\n",
      "0\n",
      "1\n",
      "0\n"
     ]
    }
   ],
   "source": [
    "#Q5 to convert decimal to binary\n",
    "\n",
    "def Binary(num):\n",
    "    \n",
    "    \"\"\"\n",
    "    Function to convert Binary to Decimal\n",
    "    \"\"\"\n",
    "    if num > 1:\n",
    "        Binary(num // 2)\n",
    "    print(num % 2)\n",
    "    \n",
    "number = int(input(\"Enter any decimal number: \"))\n",
    "Binary(number)"
   ]
  },
  {
   "cell_type": "code",
   "execution_count": 30,
   "metadata": {},
   "outputs": [
    {
     "name": "stdout",
     "output_type": "stream",
     "text": [
      "Enter a number: 86\n",
      "6\n",
      "3\n"
     ]
    }
   ],
   "source": [
    "def MDR(num):\n",
    "    if len(num) == 1:\n",
    "        return num\n",
    "    else:\n",
    "        prod = 1\n",
    "        for i in num:\n",
    "            prod*= int(i)\n",
    "        num = str(prod)\n",
    "        return MDR(num)\n",
    "\n",
    "def Mpersistence(num):\n",
    "    if MDR(num)> '2':\n",
    "        print(int(MDR(num))//2)\n",
    "    else:\n",
    "        print(MDR(num))\n",
    "    \n",
    "    \n",
    "num=input(\"Enter a number: \")\n",
    "print(MDR(num))\n",
    "Mpersistence(num)\n",
    "    "
   ]
  },
  {
   "cell_type": "code",
   "execution_count": null,
   "metadata": {},
   "outputs": [],
   "source": []
  },
  {
   "cell_type": "code",
   "execution_count": 11,
   "metadata": {},
   "outputs": [
    {
     "name": "stdout",
     "output_type": "stream",
     "text": [
      "The list of twin primes are: \n",
      "\n",
      "1 and 3\n",
      "3 and 5\n",
      "5 and 7\n",
      "11 and 13\n",
      "17 and 19\n",
      "29 and 31\n",
      "41 and 43\n",
      "59 and 61\n",
      "71 and 73\n",
      "101 and 103\n",
      "107 and 109\n",
      "137 and 139\n",
      "149 and 151\n",
      "179 and 181\n",
      "191 and 193\n",
      "197 and 199\n",
      "227 and 229\n",
      "239 and 241\n",
      "269 and 271\n",
      "281 and 283\n",
      "311 and 313\n",
      "347 and 349\n",
      "419 and 421\n",
      "431 and 433\n",
      "461 and 463\n",
      "521 and 523\n",
      "569 and 571\n",
      "599 and 601\n",
      "617 and 619\n",
      "641 and 643\n",
      "659 and 661\n",
      "809 and 811\n",
      "821 and 823\n",
      "827 and 829\n",
      "857 and 859\n",
      "881 and 883\n"
     ]
    }
   ],
   "source": [
    "#Q2 To calculate twin prime\n",
    "def is_Prime(int):\n",
    "    \"\"\"\n",
    "    Function to calculate prime\n",
    "    \"\"\"\n",
    "    isDivisible=True;\n",
    "    for i in range(2,int):\n",
    "        if int%i==0:\n",
    "            isDivisible=False;\n",
    "    \n",
    "    return isDivisible\n",
    "\n",
    "print(\"The list of twin primes are: \\n\")\n",
    "for num in range(1,1000):\n",
    "    if is_Prime(num) and is_Prime(num+2):\n",
    "        print(\"{} and {}\".format(num,num+2))\n",
    "        \n",
    "    "
   ]
  },
  {
   "cell_type": "code",
   "execution_count": null,
   "metadata": {},
   "outputs": [],
   "source": []
  },
  {
   "cell_type": "code",
   "execution_count": null,
   "metadata": {},
   "outputs": [],
   "source": []
  }
 ],
 "metadata": {
  "kernelspec": {
   "display_name": "Python 3",
   "language": "python",
   "name": "python3"
  },
  "language_info": {
   "codemirror_mode": {
    "name": "ipython",
    "version": 3
   },
   "file_extension": ".py",
   "mimetype": "text/x-python",
   "name": "python",
   "nbconvert_exporter": "python",
   "pygments_lexer": "ipython3",
   "version": "3.6.5"
  }
 },
 "nbformat": 4,
 "nbformat_minor": 2
}
